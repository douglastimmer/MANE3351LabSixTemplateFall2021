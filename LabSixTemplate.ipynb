{
 "cells": [
  {
   "cell_type": "markdown",
   "metadata": {},
   "source": [
    "# MANE 3351\n",
    "## Laboratory Six\n",
    "## Your Name"
   ]
  },
  {
   "cell_type": "code",
   "execution_count": 45,
   "metadata": {},
   "outputs": [
    {
     "data": {
      "image/png": "[encoded data removed]",
      "text/plain": [
       "<Figure size 432x288 with 1 Axes>"
      ]
     },
     "metadata": {
      "needs_background": "light"
     },
     "output_type": "display_data"
    }
   ],
   "source": [
    "# Cell 2\n",
    "import numpy as np\n",
    "import matplotlib.pyplot as plt\n",
    "\n",
    "x=np.array([52,68,64,88,80,75,59,63,85,74,71,66])\n",
    "#print(x)\n",
    "y=np.array([64.,53.,58.,59.,49.,54.,38.,48.,68.,63.,58.,47.])\n",
    "#print(y)\n",
    "#\n",
    "fig,ax=plt.subplots()\n",
    "ax.scatter(x,y)\n",
    "ax.set_xlabel('temperature (F)')\n",
    "ax.set_ylabel('unloading time (min)')\n",
    "ax.set_title('Scatter Plot of temperature vs. unloading time')\n",
    "plt.show()"
   ]
  },
  {
   "cell_type": "code",
   "execution_count": 46,
   "metadata": {},
   "outputs": [
    {
     "name": "stdout",
     "output_type": "stream",
     "text": [
      "[36.19351584  0.2658909 ]\n"
     ]
    }
   ],
   "source": [
    "# Cell 3\n",
    "X=np.array([[1,52],[1,68],[1,64],[1,88],[1,80],[1,75],[1,59],[1,63],[1,85],[1,74],[1,71],[1,66]])\n",
    "#print(x)\n",
    "#print(X)\n",
    "beta=np.matmul(np.linalg.inv(np.matmul(np.transpose(X),X)),np.matmul(np.transpose(X),y))\n",
    "print(beta)\n"
   ]
  },
  {
   "cell_type": "code",
   "execution_count": 47,
   "metadata": {},
   "outputs": [],
   "source": [
    "#cell 4\n",
    "# use numpy to find the fitted values and print the results\n"
   ]
  },
  {
   "cell_type": "code",
   "execution_count": 48,
   "metadata": {},
   "outputs": [],
   "source": [
    "# cell 5\n",
    "# Create a new figure containing the original data and the fitted data. Make sure to add a legend\n",
    "# and plot the fitted values with a diamond symbol (marker)\n",
    "#\n"
   ]
  },
  {
   "cell_type": "code",
   "execution_count": null,
   "metadata": {},
   "outputs": [],
   "source": []
  }
 ],
 "metadata": {
  "kernelspec": {
   "display_name": "Python 3",
   "language": "python",
   "name": "python3"
  },
  "language_info": {
   "codemirror_mode": {
    "name": "ipython",
    "version": 3
   },
   "file_extension": ".py",
   "mimetype": "text/x-python",
   "name": "python",
   "nbconvert_exporter": "python",
   "pygments_lexer": "ipython3",
   "version": "3.7.3"
  }
 },
 "nbformat": 4,
 "nbformat_minor": 2
}
